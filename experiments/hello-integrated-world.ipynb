{
 "cells": [
  {
   "cell_type": "code",
   "execution_count": null,
   "metadata": {},
   "outputs": [],
   "source": [
    "import numpy as np\n",
    "import matplotlib.pyplot as plt\n",
    "import celerite as celery\n",
    "import exoplanet as xo\n",
    "import pymc3 as pm\n",
    "import theano.tensor as tt\n",
    "from exoplanet.gp import terms, GP"
   ]
  },
  {
   "cell_type": "code",
   "execution_count": null,
   "metadata": {},
   "outputs": [],
   "source": [
    "xo.__version__"
   ]
  },
  {
   "cell_type": "code",
   "execution_count": null,
   "metadata": {},
   "outputs": [],
   "source": [
    "np.random.seed(42)"
   ]
  },
  {
   "cell_type": "markdown",
   "metadata": {},
   "source": [
    "#### generate RVs on a dense grid of times:"
   ]
  },
  {
   "cell_type": "code",
   "execution_count": null,
   "metadata": {},
   "outputs": [],
   "source": [
    "log_S0 = -3.0\n",
    "log_Q = 8.1\n",
    "log_omega0 = -3.9"
   ]
  },
  {
   "cell_type": "code",
   "execution_count": null,
   "metadata": {},
   "outputs": [],
   "source": [
    "kernel_onemode = celery.terms.SHOTerm(log_S0, log_Q, log_omega0)"
   ]
  },
  {
   "cell_type": "code",
   "execution_count": null,
   "metadata": {},
   "outputs": [],
   "source": [
    "nights_per_year = 60\n",
    "start_ts = np.arange(1,1+nights_per_year) * 3600. * 24. # nightly on consecutive nights\n",
    "start_ts += np.random.randint(-60, 60, nights_per_year)*60. # random perturbation of up to an hour before/after\n",
    "dt = 30. # grid spacing within a night (s)\n",
    "N = 2. * 3600. / dt # 1 hours each night\n",
    "t_all = np.ravel([np.arange(N) * dt + tt - 900. for tt in start_ts])"
   ]
  },
  {
   "cell_type": "code",
   "execution_count": null,
   "metadata": {},
   "outputs": [],
   "source": [
    "gp = celery.GP(kernel_onemode)\n",
    "gp.compute(t_all)\n",
    "y_all = gp.sample()"
   ]
  },
  {
   "cell_type": "code",
   "execution_count": null,
   "metadata": {},
   "outputs": [],
   "source": [
    "plt.plot(t_all, y_all)\n",
    "plt.xlim([start_ts[0], start_ts[0]+3600.]);"
   ]
  },
  {
   "cell_type": "markdown",
   "metadata": {},
   "source": [
    "#### bin down to simulate longer exposures:"
   ]
  },
  {
   "cell_type": "code",
   "execution_count": null,
   "metadata": {},
   "outputs": [],
   "source": [
    "from utils import simulate_exposure\n",
    "\n",
    "t = []\n",
    "y = []\n",
    "\n",
    "exp_time = 3. * 60.\n",
    "n_exp = 10\n",
    "\n",
    "for st in start_ts:\n",
    "    inds = (t_all > st - 900.) & (t_all < st + exp_time+n_exp + 3600.)\n",
    "    for n in range(n_exp):\n",
    "        stt = st + n*exp_time # start time for this exposure, assumes no read time\n",
    "        y.append(simulate_exposure(t_all[inds], y_all[inds], stt, exp_time))\n",
    "        t.append(stt + exp_time/2.)\n",
    "\n",
    "t = np.array(t)\n",
    "y = np.array(y)"
   ]
  },
  {
   "cell_type": "code",
   "execution_count": null,
   "metadata": {},
   "outputs": [],
   "source": [
    "# add photon noise:\n",
    "noise_amp = 0.3\n",
    "yerr = np.zeros_like(y) + noise_amp\n",
    "y += np.random.normal(0., noise_amp, len(y))"
   ]
  },
  {
   "cell_type": "code",
   "execution_count": null,
   "metadata": {},
   "outputs": [],
   "source": [
    "plt.plot(t_all, y_all)\n",
    "plt.scatter(t,y)\n",
    "plt.xlim([start_ts[0], start_ts[0]+1800.]);"
   ]
  },
  {
   "cell_type": "markdown",
   "metadata": {},
   "source": [
    "#### model with an integrated kernel:"
   ]
  },
  {
   "cell_type": "code",
   "execution_count": null,
   "metadata": {},
   "outputs": [],
   "source": [
    "with pm.Model() as model:\n",
    "    kernel = terms.SHOTerm(log_S0=log_S0, log_w0=log_omega0, log_Q=log_Q)\n",
    "    kernel_int = terms.IntegratedTerm(kernel, exp_time)\n",
    "    gp = GP(kernel_int, t, yerr ** 2)\n",
    "    gp.condition(y)\n",
    "    mu, var = xo.eval_in_model(gp.predict(t_all, return_var=True))\n",
    "    sd = np.sqrt(var)\n",
    "    y_pred = xo.eval_in_model(gp.predict(t))"
   ]
  },
  {
   "cell_type": "code",
   "execution_count": null,
   "metadata": {},
   "outputs": [],
   "source": [
    "plt.plot(t_all, y_all)\n",
    "plt.scatter(t,y)\n",
    "art = plt.fill_between(t_all, mu + sd, mu - sd, color=\"C1\", alpha=0.3)\n",
    "art.set_edgecolor(\"none\")\n",
    "plt.plot(t_all, mu, color=\"C1\")\n",
    "plt.xlim([start_ts[0], start_ts[0]+1800.]);"
   ]
  },
  {
   "cell_type": "code",
   "execution_count": null,
   "metadata": {},
   "outputs": [],
   "source": []
  }
 ],
 "metadata": {
  "kernelspec": {
   "display_name": "pmodes",
   "language": "python",
   "name": "pmodes"
  },
  "language_info": {
   "codemirror_mode": {
    "name": "ipython",
    "version": 3
   },
   "file_extension": ".py",
   "mimetype": "text/x-python",
   "name": "python",
   "nbconvert_exporter": "python",
   "pygments_lexer": "ipython3",
   "version": "3.7.7"
  }
 },
 "nbformat": 4,
 "nbformat_minor": 4
}
