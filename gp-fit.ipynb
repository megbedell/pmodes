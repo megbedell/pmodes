{
 "cells": [
  {
   "cell_type": "code",
   "execution_count": 1,
   "metadata": {},
   "outputs": [],
   "source": [
    "import numpy as np\n",
    "import matplotlib.pyplot as plt\n",
    "from tqdm import tqdm\n",
    "import celerite as celery\n",
    "import exoplanet as xo\n",
    "np.random.seed(42)\n",
    "%matplotlib inline"
   ]
  },
  {
   "cell_type": "code",
   "execution_count": 2,
   "metadata": {},
   "outputs": [],
   "source": [
    "import pymc3 as pm\n",
    "import theano.tensor as tt\n",
    "from exoplanet.gp import terms, GP"
   ]
  },
  {
   "cell_type": "code",
   "execution_count": 3,
   "metadata": {},
   "outputs": [],
   "source": [
    "d = np.genfromtxt('sim_oneyear_onemode.csv', names=True, dtype=None, delimiter=',')\n",
    "ts_onemode = np.copy(d['ts'])\n",
    "rvs_onemode = np.copy(d['rvs'])\n",
    "xs_onemode = np.copy(d['xs'])"
   ]
  },
  {
   "cell_type": "code",
   "execution_count": 14,
   "metadata": {},
   "outputs": [
    {
     "data": {
      "image/png": "[encoded data removed]",
      "text/plain": [
       "<Figure size 432x288 with 1 Axes>"
      ]
     },
     "metadata": {
      "needs_background": "light"
     },
     "output_type": "display_data"
    }
   ],
   "source": [
    "plt.plot(ts_onemode/86400., rvs_onemode, 'k.')\n",
    "plt.xlim([10.49,10.51]);"
   ]
  },
  {
   "cell_type": "code",
   "execution_count": 31,
   "metadata": {},
   "outputs": [
    {
     "name": "stderr",
     "output_type": "stream",
     "text": [
      "optimizing logp for variables: [logQ, logw0, logS0]\n",
      "19it [00:00, 774.25it/s, logp=2.571935e+01] \n",
      "message: Optimization terminated successfully.\n",
      "logp: 13.043173216224503 -> 25.71935218966477\n"
     ]
    }
   ],
   "source": [
    "inds = (ts_onemode > 10.49 * 86400) & (ts_onemode < 10.51 * 86400)\n",
    "t = ts_onemode[inds]\n",
    "y = rvs_onemode[inds]\n",
    "yerr = np.zeros_like(y) + 0.1 # 10 cm/s homogeneous error - made up!\n",
    "t_grid = np.linspace(t[0], t[-1], 0.01)\n",
    "with pm.Model() as model:\n",
    "\n",
    "    logS0 = pm.Normal(\"logS0\", mu=0.0, sd=15.0, testval=np.log(np.var(rvs_onemode)))\n",
    "    logw0 = pm.Normal(\"logw0\", mu=-3.9, sd=2.0)\n",
    "    logQ = pm.Normal(\"logQ\", mu=8.1, sd=2.0)\n",
    "\n",
    "    # Set up the kernel and GP\n",
    "    kernel = terms.SHOTerm(log_S0=logS0, log_w0=logw0, log_Q=logQ)\n",
    "    gp = GP(kernel, t, yerr ** 2)\n",
    "\n",
    "    # Add a custom \"potential\" (log probability function) with the GP likelihood\n",
    "    pm.Potential(\"gp\", gp.log_likelihood(y))\n",
    "\n",
    "with model:\n",
    "    map_soln = xo.optimize(start=model.test_point)\n",
    "    mu, var = xo.eval_in_model(gp.predict(t_grid, return_var=True), map_soln)"
   ]
  },
  {
   "cell_type": "code",
   "execution_count": 32,
   "metadata": {},
   "outputs": [
    {
     "data": {
      "image/png": "[encoded data removed]",
      "text/plain": [
       "<Figure size 432x288 with 1 Axes>"
      ]
     },
     "metadata": {
      "needs_background": "light"
     },
     "output_type": "display_data"
    }
   ],
   "source": [
    "plt.errorbar(t, y, yerr=yerr, fmt=\".k\", capsize=0, label=\"data\")\n",
    "\n",
    "# Plot the prediction and the 1-sigma uncertainty\n",
    "sd = np.sqrt(var)\n",
    "art = plt.fill_between(t_grid, mu + sd, mu - sd, color=\"C1\", alpha=0.3)\n",
    "art.set_edgecolor(\"none\")\n",
    "plt.plot(t_grid, mu, color=\"C1\", label=\"prediction\");"
   ]
  },
  {
   "cell_type": "code",
   "execution_count": 33,
   "metadata": {},
   "outputs": [
    {
     "data": {
      "text/plain": [
       "{'logS0': array(-6.43600347),\n",
       " 'logw0': array(-3.92937863),\n",
       " 'logQ': array(8.86969188)}"
      ]
     },
     "execution_count": 33,
     "metadata": {},
     "output_type": "execute_result"
    }
   ],
   "source": [
    "map_soln"
   ]
  },
  {
   "cell_type": "code",
   "execution_count": 34,
   "metadata": {},
   "outputs": [
    {
     "data": {
      "text/plain": [
       "array([], dtype=float64)"
      ]
     },
     "execution_count": 34,
     "metadata": {},
     "output_type": "execute_result"
    }
   ],
   "source": [
    "mu"
   ]
  },
  {
   "cell_type": "code",
   "execution_count": null,
   "metadata": {},
   "outputs": [],
   "source": []
  }
 ],
 "metadata": {
  "kernelspec": {
   "display_name": "Python 3",
   "language": "python",
   "name": "python3"
  },
  "language_info": {
   "codemirror_mode": {
    "name": "ipython",
    "version": 3
   },
   "file_extension": ".py",
   "mimetype": "text/x-python",
   "name": "python",
   "nbconvert_exporter": "python",
   "pygments_lexer": "ipython3",
   "version": "3.6.7"
  }
 },
 "nbformat": 4,
 "nbformat_minor": 4
}
